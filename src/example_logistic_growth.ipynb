{
 "cells": [
  {
   "cell_type": "markdown",
   "metadata": {},
   "source": [
    "An example notebook which simply compares the results of population growth on CPU."
   ]
  },
  {
   "cell_type": "code",
   "execution_count": 1,
   "metadata": {},
   "outputs": [],
   "source": [
    "import time\n",
    "import statistics\n",
    "\n",
    "from simulation.simulator import Simulator"
   ]
  },
  {
   "cell_type": "code",
   "execution_count": 2,
   "metadata": {},
   "outputs": [],
   "source": [
    "def diffeq_logistic_growth(t, z, args):\n",
    "    \"\"\"\n",
    "    Example diffeq for logistic growth.\n",
    "    \"\"\"\n",
    "    a_x, b_x, a_y, b_y = args\n",
    "    x, y = z\n",
    "    dxdt = a_x * (b_x - x)\n",
    "    dydt = a_y * (b_y - y)\n",
    "    return [dxdt, dydt]"
   ]
  },
  {
   "cell_type": "code",
   "execution_count": 3,
   "metadata": {},
   "outputs": [],
   "source": [
    "a_x = 0.1\n",
    "b_x = 150\n",
    "a_y = 0.02\n",
    "b_y = 400\n",
    "\n",
    "y0_0 = 1.0\n",
    "y1_0 = 2.0"
   ]
  },
  {
   "cell_type": "code",
   "execution_count": 9,
   "metadata": {},
   "outputs": [],
   "source": [
    "scipy_sim = Simulator(\"scipy\")\n",
    "pytorch_sim = Simulator(\"pytorch\")\n",
    "jax_sim = Simulator(\"jax\")\n",
    "\n",
    "results = {}\n",
    "\n",
    "for _ in range(0, 100):\n",
    "    for sim in [scipy_sim, pytorch_sim, jax_sim]:\n",
    "        start_time = time.time()\n",
    "        sim.generate_numeric_sol_ivp(\n",
    "            diffeq_func=diffeq_logistic_growth,\n",
    "            args=(a_x, b_x, a_y, b_y),\n",
    "            ic=[y0_0, y1_0],\n",
    "            ti=0.0,\n",
    "            tf=3.0,\n",
    "            dt=0.01,\n",
    "        )\n",
    "        end_time = time.time()\n",
    "\n",
    "        if sim.backend not in results:\n",
    "            results[sim.backend] = [end_time - start_time]\n",
    "        else:\n",
    "            results[sim.backend].append(end_time - start_time)\n",
    "        sim.clear_sims()"
   ]
  },
  {
   "cell_type": "code",
   "execution_count": 10,
   "metadata": {},
   "outputs": [
    {
     "data": {
      "text/plain": [
       "(0.00028483867645263673, 0.009703502655029297, 0.0038391804695129396)"
      ]
     },
     "execution_count": 10,
     "metadata": {},
     "output_type": "execute_result"
    }
   ],
   "source": [
    "statistics.mean(results[\"scipy\"]), statistics.mean(results[\"pytorch\"]), statistics.mean(\n",
    "    results[\"jax\"]\n",
    ")"
   ]
  },
  {
   "cell_type": "code",
   "execution_count": null,
   "metadata": {},
   "outputs": [],
   "source": []
  }
 ],
 "metadata": {
  "kernelspec": {
   "display_name": "venv-diffeqs",
   "language": "python",
   "name": "python3"
  },
  "language_info": {
   "codemirror_mode": {
    "name": "ipython",
    "version": 3
   },
   "file_extension": ".py",
   "mimetype": "text/x-python",
   "name": "python",
   "nbconvert_exporter": "python",
   "pygments_lexer": "ipython3",
   "version": "3.10.12"
  }
 },
 "nbformat": 4,
 "nbformat_minor": 2
}
